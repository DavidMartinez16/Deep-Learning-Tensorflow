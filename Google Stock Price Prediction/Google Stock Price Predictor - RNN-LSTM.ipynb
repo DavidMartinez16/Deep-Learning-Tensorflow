{
 "cells": [
  {
   "cell_type": "markdown",
   "metadata": {},
   "source": [
    "## Import the libraries"
   ]
  },
  {
   "cell_type": "code",
   "execution_count": 3,
   "metadata": {},
   "outputs": [],
   "source": [
    "import tensorflow as tf\n",
    "import numpy as np\n",
    "import pandas as pd\n",
    "import matplotlib.pyplot as plt\n",
    "from sklearn.preprocessing import MinMaxScaler, StandardScaler\n",
    "from IPython.display import SVG\n",
    "from tensorflow.keras.utils import plot_model, model_to_dot\n",
    "from tensorflow.keras.models import Sequential\n",
    "from tensorflow.keras.layers import Dense, LSTM, Dropout"
   ]
  },
  {
   "cell_type": "markdown",
   "metadata": {},
   "source": [
    "## Read the Data"
   ]
  },
  {
   "cell_type": "code",
   "execution_count": 4,
   "metadata": {},
   "outputs": [
    {
     "data": {
      "text/html": [
       "<div>\n",
       "<style scoped>\n",
       "    .dataframe tbody tr th:only-of-type {\n",
       "        vertical-align: middle;\n",
       "    }\n",
       "\n",
       "    .dataframe tbody tr th {\n",
       "        vertical-align: top;\n",
       "    }\n",
       "\n",
       "    .dataframe thead th {\n",
       "        text-align: right;\n",
       "    }\n",
       "</style>\n",
       "<table border=\"1\" class=\"dataframe\">\n",
       "  <thead>\n",
       "    <tr style=\"text-align: right;\">\n",
       "      <th></th>\n",
       "      <th>Date</th>\n",
       "      <th>Open</th>\n",
       "      <th>High</th>\n",
       "      <th>Low</th>\n",
       "      <th>Close</th>\n",
       "      <th>Adj Close</th>\n",
       "      <th>Volume</th>\n",
       "    </tr>\n",
       "  </thead>\n",
       "  <tbody>\n",
       "    <tr>\n",
       "      <th>0</th>\n",
       "      <td>2004-08-19</td>\n",
       "      <td>50.050049</td>\n",
       "      <td>52.082081</td>\n",
       "      <td>48.028027</td>\n",
       "      <td>50.220219</td>\n",
       "      <td>50.220219</td>\n",
       "      <td>44659000</td>\n",
       "    </tr>\n",
       "    <tr>\n",
       "      <th>1</th>\n",
       "      <td>2004-08-20</td>\n",
       "      <td>50.555557</td>\n",
       "      <td>54.594593</td>\n",
       "      <td>50.300301</td>\n",
       "      <td>54.209209</td>\n",
       "      <td>54.209209</td>\n",
       "      <td>22834300</td>\n",
       "    </tr>\n",
       "    <tr>\n",
       "      <th>2</th>\n",
       "      <td>2004-08-23</td>\n",
       "      <td>55.430431</td>\n",
       "      <td>56.796795</td>\n",
       "      <td>54.579578</td>\n",
       "      <td>54.754753</td>\n",
       "      <td>54.754753</td>\n",
       "      <td>18256100</td>\n",
       "    </tr>\n",
       "    <tr>\n",
       "      <th>3</th>\n",
       "      <td>2004-08-24</td>\n",
       "      <td>55.675674</td>\n",
       "      <td>55.855854</td>\n",
       "      <td>51.836838</td>\n",
       "      <td>52.487488</td>\n",
       "      <td>52.487488</td>\n",
       "      <td>15247300</td>\n",
       "    </tr>\n",
       "    <tr>\n",
       "      <th>4</th>\n",
       "      <td>2004-08-25</td>\n",
       "      <td>52.532532</td>\n",
       "      <td>54.054054</td>\n",
       "      <td>51.991993</td>\n",
       "      <td>53.053055</td>\n",
       "      <td>53.053055</td>\n",
       "      <td>9188600</td>\n",
       "    </tr>\n",
       "  </tbody>\n",
       "</table>\n",
       "</div>"
      ],
      "text/plain": [
       "         Date       Open       High        Low      Close  Adj Close    Volume\n",
       "0  2004-08-19  50.050049  52.082081  48.028027  50.220219  50.220219  44659000\n",
       "1  2004-08-20  50.555557  54.594593  50.300301  54.209209  54.209209  22834300\n",
       "2  2004-08-23  55.430431  56.796795  54.579578  54.754753  54.754753  18256100\n",
       "3  2004-08-24  55.675674  55.855854  51.836838  52.487488  52.487488  15247300\n",
       "4  2004-08-25  52.532532  54.054054  51.991993  53.053055  53.053055   9188600"
      ]
     },
     "execution_count": 4,
     "metadata": {},
     "output_type": "execute_result"
    }
   ],
   "source": [
    "data = pd.read_csv('GOOGL.csv', date_parser = True)\n",
    "data.head()"
   ]
  },
  {
   "cell_type": "code",
   "execution_count": 5,
   "metadata": {},
   "outputs": [
    {
     "data": {
      "text/html": [
       "<div>\n",
       "<style scoped>\n",
       "    .dataframe tbody tr th:only-of-type {\n",
       "        vertical-align: middle;\n",
       "    }\n",
       "\n",
       "    .dataframe tbody tr th {\n",
       "        vertical-align: top;\n",
       "    }\n",
       "\n",
       "    .dataframe thead th {\n",
       "        text-align: right;\n",
       "    }\n",
       "</style>\n",
       "<table border=\"1\" class=\"dataframe\">\n",
       "  <thead>\n",
       "    <tr style=\"text-align: right;\">\n",
       "      <th></th>\n",
       "      <th>Date</th>\n",
       "      <th>Open</th>\n",
       "      <th>High</th>\n",
       "      <th>Low</th>\n",
       "      <th>Close</th>\n",
       "      <th>Adj Close</th>\n",
       "      <th>Volume</th>\n",
       "    </tr>\n",
       "  </thead>\n",
       "  <tbody>\n",
       "    <tr>\n",
       "      <th>0</th>\n",
       "      <td>2004-08-19</td>\n",
       "      <td>50.050049</td>\n",
       "      <td>52.082081</td>\n",
       "      <td>48.028027</td>\n",
       "      <td>50.220219</td>\n",
       "      <td>50.220219</td>\n",
       "      <td>44659000</td>\n",
       "    </tr>\n",
       "    <tr>\n",
       "      <th>1</th>\n",
       "      <td>2004-08-20</td>\n",
       "      <td>50.555557</td>\n",
       "      <td>54.594593</td>\n",
       "      <td>50.300301</td>\n",
       "      <td>54.209209</td>\n",
       "      <td>54.209209</td>\n",
       "      <td>22834300</td>\n",
       "    </tr>\n",
       "    <tr>\n",
       "      <th>2</th>\n",
       "      <td>2004-08-23</td>\n",
       "      <td>55.430431</td>\n",
       "      <td>56.796795</td>\n",
       "      <td>54.579578</td>\n",
       "      <td>54.754753</td>\n",
       "      <td>54.754753</td>\n",
       "      <td>18256100</td>\n",
       "    </tr>\n",
       "    <tr>\n",
       "      <th>3</th>\n",
       "      <td>2004-08-24</td>\n",
       "      <td>55.675674</td>\n",
       "      <td>55.855854</td>\n",
       "      <td>51.836838</td>\n",
       "      <td>52.487488</td>\n",
       "      <td>52.487488</td>\n",
       "      <td>15247300</td>\n",
       "    </tr>\n",
       "    <tr>\n",
       "      <th>4</th>\n",
       "      <td>2004-08-25</td>\n",
       "      <td>52.532532</td>\n",
       "      <td>54.054054</td>\n",
       "      <td>51.991993</td>\n",
       "      <td>53.053055</td>\n",
       "      <td>53.053055</td>\n",
       "      <td>9188600</td>\n",
       "    </tr>\n",
       "    <tr>\n",
       "      <th>...</th>\n",
       "      <td>...</td>\n",
       "      <td>...</td>\n",
       "      <td>...</td>\n",
       "      <td>...</td>\n",
       "      <td>...</td>\n",
       "      <td>...</td>\n",
       "      <td>...</td>\n",
       "    </tr>\n",
       "    <tr>\n",
       "      <th>3612</th>\n",
       "      <td>2018-12-24</td>\n",
       "      <td>984.320007</td>\n",
       "      <td>1012.119995</td>\n",
       "      <td>977.659973</td>\n",
       "      <td>984.669983</td>\n",
       "      <td>984.669983</td>\n",
       "      <td>1818000</td>\n",
       "    </tr>\n",
       "    <tr>\n",
       "      <th>3613</th>\n",
       "      <td>2018-12-26</td>\n",
       "      <td>997.989990</td>\n",
       "      <td>1048.449951</td>\n",
       "      <td>992.650024</td>\n",
       "      <td>1047.849976</td>\n",
       "      <td>1047.849976</td>\n",
       "      <td>2315900</td>\n",
       "    </tr>\n",
       "    <tr>\n",
       "      <th>3614</th>\n",
       "      <td>2018-12-27</td>\n",
       "      <td>1026.199951</td>\n",
       "      <td>1053.339966</td>\n",
       "      <td>1007.000000</td>\n",
       "      <td>1052.900024</td>\n",
       "      <td>1052.900024</td>\n",
       "      <td>2299800</td>\n",
       "    </tr>\n",
       "    <tr>\n",
       "      <th>3615</th>\n",
       "      <td>2018-12-28</td>\n",
       "      <td>1059.500000</td>\n",
       "      <td>1064.229980</td>\n",
       "      <td>1042.000000</td>\n",
       "      <td>1046.680054</td>\n",
       "      <td>1046.680054</td>\n",
       "      <td>1719900</td>\n",
       "    </tr>\n",
       "    <tr>\n",
       "      <th>3616</th>\n",
       "      <td>2018-12-31</td>\n",
       "      <td>1057.829956</td>\n",
       "      <td>1062.989990</td>\n",
       "      <td>1033.040039</td>\n",
       "      <td>1044.959961</td>\n",
       "      <td>1044.959961</td>\n",
       "      <td>1655500</td>\n",
       "    </tr>\n",
       "  </tbody>\n",
       "</table>\n",
       "<p>3617 rows × 7 columns</p>\n",
       "</div>"
      ],
      "text/plain": [
       "            Date         Open         High          Low        Close  \\\n",
       "0     2004-08-19    50.050049    52.082081    48.028027    50.220219   \n",
       "1     2004-08-20    50.555557    54.594593    50.300301    54.209209   \n",
       "2     2004-08-23    55.430431    56.796795    54.579578    54.754753   \n",
       "3     2004-08-24    55.675674    55.855854    51.836838    52.487488   \n",
       "4     2004-08-25    52.532532    54.054054    51.991993    53.053055   \n",
       "...          ...          ...          ...          ...          ...   \n",
       "3612  2018-12-24   984.320007  1012.119995   977.659973   984.669983   \n",
       "3613  2018-12-26   997.989990  1048.449951   992.650024  1047.849976   \n",
       "3614  2018-12-27  1026.199951  1053.339966  1007.000000  1052.900024   \n",
       "3615  2018-12-28  1059.500000  1064.229980  1042.000000  1046.680054   \n",
       "3616  2018-12-31  1057.829956  1062.989990  1033.040039  1044.959961   \n",
       "\n",
       "        Adj Close    Volume  \n",
       "0       50.220219  44659000  \n",
       "1       54.209209  22834300  \n",
       "2       54.754753  18256100  \n",
       "3       52.487488  15247300  \n",
       "4       53.053055   9188600  \n",
       "...           ...       ...  \n",
       "3612   984.669983   1818000  \n",
       "3613  1047.849976   2315900  \n",
       "3614  1052.900024   2299800  \n",
       "3615  1046.680054   1719900  \n",
       "3616  1044.959961   1655500  \n",
       "\n",
       "[3617 rows x 7 columns]"
      ]
     },
     "execution_count": 5,
     "metadata": {},
     "output_type": "execute_result"
    }
   ],
   "source": [
    "data_training = data[data['Date']<'2019-01-01'].copy()\n",
    "data_training"
   ]
  },
  {
   "cell_type": "code",
   "execution_count": 6,
   "metadata": {},
   "outputs": [
    {
     "data": {
      "text/html": [
       "<div>\n",
       "<style scoped>\n",
       "    .dataframe tbody tr th:only-of-type {\n",
       "        vertical-align: middle;\n",
       "    }\n",
       "\n",
       "    .dataframe tbody tr th {\n",
       "        vertical-align: top;\n",
       "    }\n",
       "\n",
       "    .dataframe thead th {\n",
       "        text-align: right;\n",
       "    }\n",
       "</style>\n",
       "<table border=\"1\" class=\"dataframe\">\n",
       "  <thead>\n",
       "    <tr style=\"text-align: right;\">\n",
       "      <th></th>\n",
       "      <th>Date</th>\n",
       "      <th>Open</th>\n",
       "      <th>High</th>\n",
       "      <th>Low</th>\n",
       "      <th>Close</th>\n",
       "      <th>Adj Close</th>\n",
       "      <th>Volume</th>\n",
       "    </tr>\n",
       "  </thead>\n",
       "  <tbody>\n",
       "    <tr>\n",
       "      <th>3617</th>\n",
       "      <td>2019-01-02</td>\n",
       "      <td>1027.199951</td>\n",
       "      <td>1060.790039</td>\n",
       "      <td>1025.280029</td>\n",
       "      <td>1054.680054</td>\n",
       "      <td>1054.680054</td>\n",
       "      <td>1593400</td>\n",
       "    </tr>\n",
       "    <tr>\n",
       "      <th>3618</th>\n",
       "      <td>2019-01-03</td>\n",
       "      <td>1050.670044</td>\n",
       "      <td>1066.260010</td>\n",
       "      <td>1022.369995</td>\n",
       "      <td>1025.469971</td>\n",
       "      <td>1025.469971</td>\n",
       "      <td>2098000</td>\n",
       "    </tr>\n",
       "    <tr>\n",
       "      <th>3619</th>\n",
       "      <td>2019-01-04</td>\n",
       "      <td>1042.560059</td>\n",
       "      <td>1080.000000</td>\n",
       "      <td>1036.859985</td>\n",
       "      <td>1078.069946</td>\n",
       "      <td>1078.069946</td>\n",
       "      <td>2301100</td>\n",
       "    </tr>\n",
       "    <tr>\n",
       "      <th>3620</th>\n",
       "      <td>2019-01-07</td>\n",
       "      <td>1080.969971</td>\n",
       "      <td>1082.699951</td>\n",
       "      <td>1062.640015</td>\n",
       "      <td>1075.920044</td>\n",
       "      <td>1075.920044</td>\n",
       "      <td>2372300</td>\n",
       "    </tr>\n",
       "    <tr>\n",
       "      <th>3621</th>\n",
       "      <td>2019-01-08</td>\n",
       "      <td>1086.000000</td>\n",
       "      <td>1093.349976</td>\n",
       "      <td>1068.349976</td>\n",
       "      <td>1085.369995</td>\n",
       "      <td>1085.369995</td>\n",
       "      <td>1770700</td>\n",
       "    </tr>\n",
       "    <tr>\n",
       "      <th>...</th>\n",
       "      <td>...</td>\n",
       "      <td>...</td>\n",
       "      <td>...</td>\n",
       "      <td>...</td>\n",
       "      <td>...</td>\n",
       "      <td>...</td>\n",
       "      <td>...</td>\n",
       "    </tr>\n",
       "    <tr>\n",
       "      <th>4049</th>\n",
       "      <td>2020-09-18</td>\n",
       "      <td>1488.300049</td>\n",
       "      <td>1495.199951</td>\n",
       "      <td>1431.619995</td>\n",
       "      <td>1451.089966</td>\n",
       "      <td>1451.089966</td>\n",
       "      <td>3152800</td>\n",
       "    </tr>\n",
       "    <tr>\n",
       "      <th>4050</th>\n",
       "      <td>2020-09-21</td>\n",
       "      <td>1431.619995</td>\n",
       "      <td>1440.060059</td>\n",
       "      <td>1402.680054</td>\n",
       "      <td>1430.140015</td>\n",
       "      <td>1430.140015</td>\n",
       "      <td>2845400</td>\n",
       "    </tr>\n",
       "    <tr>\n",
       "      <th>4051</th>\n",
       "      <td>2020-09-22</td>\n",
       "      <td>1450.319946</td>\n",
       "      <td>1463.969971</td>\n",
       "      <td>1429.500000</td>\n",
       "      <td>1459.819946</td>\n",
       "      <td>1459.819946</td>\n",
       "      <td>1697500</td>\n",
       "    </tr>\n",
       "    <tr>\n",
       "      <th>4052</th>\n",
       "      <td>2020-09-23</td>\n",
       "      <td>1452.089966</td>\n",
       "      <td>1453.079956</td>\n",
       "      <td>1402.680054</td>\n",
       "      <td>1409.390015</td>\n",
       "      <td>1409.390015</td>\n",
       "      <td>1886300</td>\n",
       "    </tr>\n",
       "    <tr>\n",
       "      <th>4053</th>\n",
       "      <td>2020-09-24</td>\n",
       "      <td>1402.680054</td>\n",
       "      <td>1437.989990</td>\n",
       "      <td>1402.150024</td>\n",
       "      <td>1422.859985</td>\n",
       "      <td>1422.859985</td>\n",
       "      <td>1725700</td>\n",
       "    </tr>\n",
       "  </tbody>\n",
       "</table>\n",
       "<p>437 rows × 7 columns</p>\n",
       "</div>"
      ],
      "text/plain": [
       "            Date         Open         High          Low        Close  \\\n",
       "3617  2019-01-02  1027.199951  1060.790039  1025.280029  1054.680054   \n",
       "3618  2019-01-03  1050.670044  1066.260010  1022.369995  1025.469971   \n",
       "3619  2019-01-04  1042.560059  1080.000000  1036.859985  1078.069946   \n",
       "3620  2019-01-07  1080.969971  1082.699951  1062.640015  1075.920044   \n",
       "3621  2019-01-08  1086.000000  1093.349976  1068.349976  1085.369995   \n",
       "...          ...          ...          ...          ...          ...   \n",
       "4049  2020-09-18  1488.300049  1495.199951  1431.619995  1451.089966   \n",
       "4050  2020-09-21  1431.619995  1440.060059  1402.680054  1430.140015   \n",
       "4051  2020-09-22  1450.319946  1463.969971  1429.500000  1459.819946   \n",
       "4052  2020-09-23  1452.089966  1453.079956  1402.680054  1409.390015   \n",
       "4053  2020-09-24  1402.680054  1437.989990  1402.150024  1422.859985   \n",
       "\n",
       "        Adj Close   Volume  \n",
       "3617  1054.680054  1593400  \n",
       "3618  1025.469971  2098000  \n",
       "3619  1078.069946  2301100  \n",
       "3620  1075.920044  2372300  \n",
       "3621  1085.369995  1770700  \n",
       "...           ...      ...  \n",
       "4049  1451.089966  3152800  \n",
       "4050  1430.140015  2845400  \n",
       "4051  1459.819946  1697500  \n",
       "4052  1409.390015  1886300  \n",
       "4053  1422.859985  1725700  \n",
       "\n",
       "[437 rows x 7 columns]"
      ]
     },
     "execution_count": 6,
     "metadata": {},
     "output_type": "execute_result"
    }
   ],
   "source": [
    "data_testing = data[data['Date']>='2019-01-01'].copy()\n",
    "data_testing"
   ]
  },
  {
   "cell_type": "code",
   "execution_count": 7,
   "metadata": {},
   "outputs": [
    {
     "data": {
      "text/html": [
       "<div>\n",
       "<style scoped>\n",
       "    .dataframe tbody tr th:only-of-type {\n",
       "        vertical-align: middle;\n",
       "    }\n",
       "\n",
       "    .dataframe tbody tr th {\n",
       "        vertical-align: top;\n",
       "    }\n",
       "\n",
       "    .dataframe thead th {\n",
       "        text-align: right;\n",
       "    }\n",
       "</style>\n",
       "<table border=\"1\" class=\"dataframe\">\n",
       "  <thead>\n",
       "    <tr style=\"text-align: right;\">\n",
       "      <th></th>\n",
       "      <th>Open</th>\n",
       "      <th>High</th>\n",
       "      <th>Low</th>\n",
       "      <th>Close</th>\n",
       "      <th>Volume</th>\n",
       "    </tr>\n",
       "  </thead>\n",
       "  <tbody>\n",
       "    <tr>\n",
       "      <th>0</th>\n",
       "      <td>50.050049</td>\n",
       "      <td>52.082081</td>\n",
       "      <td>48.028027</td>\n",
       "      <td>50.220219</td>\n",
       "      <td>44659000</td>\n",
       "    </tr>\n",
       "    <tr>\n",
       "      <th>1</th>\n",
       "      <td>50.555557</td>\n",
       "      <td>54.594593</td>\n",
       "      <td>50.300301</td>\n",
       "      <td>54.209209</td>\n",
       "      <td>22834300</td>\n",
       "    </tr>\n",
       "    <tr>\n",
       "      <th>2</th>\n",
       "      <td>55.430431</td>\n",
       "      <td>56.796795</td>\n",
       "      <td>54.579578</td>\n",
       "      <td>54.754753</td>\n",
       "      <td>18256100</td>\n",
       "    </tr>\n",
       "    <tr>\n",
       "      <th>3</th>\n",
       "      <td>55.675674</td>\n",
       "      <td>55.855854</td>\n",
       "      <td>51.836838</td>\n",
       "      <td>52.487488</td>\n",
       "      <td>15247300</td>\n",
       "    </tr>\n",
       "    <tr>\n",
       "      <th>4</th>\n",
       "      <td>52.532532</td>\n",
       "      <td>54.054054</td>\n",
       "      <td>51.991993</td>\n",
       "      <td>53.053055</td>\n",
       "      <td>9188600</td>\n",
       "    </tr>\n",
       "  </tbody>\n",
       "</table>\n",
       "</div>"
      ],
      "text/plain": [
       "        Open       High        Low      Close    Volume\n",
       "0  50.050049  52.082081  48.028027  50.220219  44659000\n",
       "1  50.555557  54.594593  50.300301  54.209209  22834300\n",
       "2  55.430431  56.796795  54.579578  54.754753  18256100\n",
       "3  55.675674  55.855854  51.836838  52.487488  15247300\n",
       "4  52.532532  54.054054  51.991993  53.053055   9188600"
      ]
     },
     "execution_count": 7,
     "metadata": {},
     "output_type": "execute_result"
    }
   ],
   "source": [
    "training_data = data_training.drop(['Date','Adj Close'], axis=1)\n",
    "training_data.head()"
   ]
  },
  {
   "cell_type": "code",
   "execution_count": 8,
   "metadata": {},
   "outputs": [
    {
     "data": {
      "text/plain": [
       "array([2.98673445e+02, 3.01007983e+02, 2.96082784e+02, 2.98606917e+02,\n",
       "       8.12933209e+06])"
      ]
     },
     "execution_count": 8,
     "metadata": {},
     "output_type": "execute_result"
    }
   ],
   "source": [
    "# Scale the values between 0 and 1\n",
    "scaler = StandardScaler()\n",
    "training_data = scaler.fit_transform(training_data)\n",
    "scaler.scale_"
   ]
  },
  {
   "cell_type": "code",
   "execution_count": 9,
   "metadata": {},
   "outputs": [],
   "source": [
    "x_train = []\n",
    "y_train = []\n",
    "\n",
    "# Read the firts 30 days of the data\n",
    "\n",
    "for i in range(30, training_data.shape[0]):\n",
    "    x_train.append(training_data[i-30:i])\n",
    "    y_train.append(training_data[i,0])\n",
    "\n",
    "# Convert to an array\n",
    "x_train, y_train = np.array(x_train), np.array(y_train)"
   ]
  },
  {
   "cell_type": "code",
   "execution_count": 10,
   "metadata": {},
   "outputs": [
    {
     "data": {
      "text/plain": [
       "((3587, 30, 5), (3587,))"
      ]
     },
     "execution_count": 10,
     "metadata": {},
     "output_type": "execute_result"
    }
   ],
   "source": [
    "# Verify the shape of each array\n",
    "x_train.shape, y_train.shape"
   ]
  },
  {
   "cell_type": "markdown",
   "metadata": {},
   "source": [
    "## Build the LSTM - RNN"
   ]
  },
  {
   "cell_type": "code",
   "execution_count": 24,
   "metadata": {},
   "outputs": [],
   "source": [
    "regressor = Sequential()\n",
    "\n",
    "regressor.add(LSTM(units = 60, activation = 'relu', return_sequences = True, input_shape = (x_train.shape[1], 5)))\n",
    "regressor.add(Dropout(0.2))\n",
    "\n",
    "regressor.add(LSTM(units = 70, activation = 'relu', return_sequences = True))\n",
    "regressor.add(Dropout(0.3))\n",
    "\n",
    "regressor.add(LSTM(units = 90, activation = 'relu', return_sequences = True))\n",
    "regressor.add(Dropout(0.4))\n",
    "\n",
    "regressor.add(LSTM(units = 120, activation = 'relu'))\n",
    "regressor.add(Dropout(0.5))\n",
    "\n",
    "regressor.add(Dense(1))"
   ]
  },
  {
   "cell_type": "code",
   "execution_count": 25,
   "metadata": {},
   "outputs": [
    {
     "name": "stdout",
     "output_type": "stream",
     "text": [
      "Model: \"sequential_1\"\n",
      "_________________________________________________________________\n",
      "Layer (type)                 Output Shape              Param #   \n",
      "=================================================================\n",
      "lstm_4 (LSTM)                (None, 30, 60)            15840     \n",
      "_________________________________________________________________\n",
      "dropout_4 (Dropout)          (None, 30, 60)            0         \n",
      "_________________________________________________________________\n",
      "lstm_5 (LSTM)                (None, 30, 70)            36680     \n",
      "_________________________________________________________________\n",
      "dropout_5 (Dropout)          (None, 30, 70)            0         \n",
      "_________________________________________________________________\n",
      "lstm_6 (LSTM)                (None, 30, 90)            57960     \n",
      "_________________________________________________________________\n",
      "dropout_6 (Dropout)          (None, 30, 90)            0         \n",
      "_________________________________________________________________\n",
      "lstm_7 (LSTM)                (None, 120)               101280    \n",
      "_________________________________________________________________\n",
      "dropout_7 (Dropout)          (None, 120)               0         \n",
      "_________________________________________________________________\n",
      "dense_1 (Dense)              (None, 1)                 121       \n",
      "=================================================================\n",
      "Total params: 211,881\n",
      "Trainable params: 211,881\n",
      "Non-trainable params: 0\n",
      "_________________________________________________________________\n"
     ]
    }
   ],
   "source": [
    "# Print the structure of the Regressor\n",
    "regressor.summary()"
   ]
  },
  {
   "cell_type": "code",
   "execution_count": 35,
   "metadata": {},
   "outputs": [],
   "source": [
    "regressor.compile(optimier='adam', loss= 'mean_squared_error')"
   ]
  },
  {
   "cell_type": "code",
   "execution_count": 36,
   "metadata": {},
   "outputs": [
    {
     "name": "stdout",
     "output_type": "stream",
     "text": [
      "Train on 3587 samples\n",
      "Epoch 1/20\n",
      "3587/3587 [==============================] - 26s 7ms/sample - loss: 0.1592\n",
      "Epoch 2/20\n",
      "3587/3587 [==============================] - 15s 4ms/sample - loss: 0.0652\n",
      "Epoch 3/20\n",
      "3587/3587 [==============================] - 14s 4ms/sample - loss: 0.0520\n",
      "Epoch 4/20\n",
      "3587/3587 [==============================] - 15s 4ms/sample - loss: 0.0440\n",
      "Epoch 5/20\n",
      "3587/3587 [==============================] - 17s 5ms/sample - loss: 0.0375\n",
      "Epoch 6/20\n",
      "3587/3587 [==============================] - 16s 4ms/sample - loss: 0.0391\n",
      "Epoch 7/20\n",
      "3587/3587 [==============================] - 14s 4ms/sample - loss: 0.0384\n",
      "Epoch 8/20\n",
      "3587/3587 [==============================] - 14s 4ms/sample - loss: 0.0351\n",
      "Epoch 9/20\n",
      "3587/3587 [==============================] - 14s 4ms/sample - loss: 0.0326\n",
      "Epoch 10/20\n",
      "3587/3587 [==============================] - 14s 4ms/sample - loss: 0.0354\n",
      "Epoch 11/20\n",
      "3587/3587 [==============================] - 14s 4ms/sample - loss: 0.0329\n",
      "Epoch 12/20\n",
      "3587/3587 [==============================] - 14s 4ms/sample - loss: 0.0321\n",
      "Epoch 13/20\n",
      "3587/3587 [==============================] - 15s 4ms/sample - loss: 0.0325\n",
      "Epoch 14/20\n",
      "3587/3587 [==============================] - 16s 4ms/sample - loss: 0.0305\n",
      "Epoch 15/20\n",
      "3587/3587 [==============================] - 15s 4ms/sample - loss: 0.0335\n",
      "Epoch 16/20\n",
      "3587/3587 [==============================] - 13s 4ms/sample - loss: 0.0293\n",
      "Epoch 17/20\n",
      "3587/3587 [==============================] - 14s 4ms/sample - loss: 0.0320\n",
      "Epoch 18/20\n",
      "3587/3587 [==============================] - 16s 4ms/sample - loss: 0.0292\n",
      "Epoch 19/20\n",
      "3587/3587 [==============================] - 14s 4ms/sample - loss: 0.0327\n",
      "Epoch 20/20\n",
      "3587/3587 [==============================] - 15s 4ms/sample - loss: 0.0291\n"
     ]
    },
    {
     "data": {
      "text/plain": [
       "<tensorflow.python.keras.callbacks.History at 0x18905deff08>"
      ]
     },
     "execution_count": 36,
     "metadata": {},
     "output_type": "execute_result"
    }
   ],
   "source": [
    "regressor.fit(x_train, y_train, epochs=20, batch_size=32)"
   ]
  },
  {
   "cell_type": "markdown",
   "metadata": {},
   "source": [
    "## Preprate the test Dataset"
   ]
  },
  {
   "cell_type": "code",
   "execution_count": 37,
   "metadata": {},
   "outputs": [
    {
     "data": {
      "text/html": [
       "<div>\n",
       "<style scoped>\n",
       "    .dataframe tbody tr th:only-of-type {\n",
       "        vertical-align: middle;\n",
       "    }\n",
       "\n",
       "    .dataframe tbody tr th {\n",
       "        vertical-align: top;\n",
       "    }\n",
       "\n",
       "    .dataframe thead th {\n",
       "        text-align: right;\n",
       "    }\n",
       "</style>\n",
       "<table border=\"1\" class=\"dataframe\">\n",
       "  <thead>\n",
       "    <tr style=\"text-align: right;\">\n",
       "      <th></th>\n",
       "      <th>Date</th>\n",
       "      <th>Open</th>\n",
       "      <th>High</th>\n",
       "      <th>Low</th>\n",
       "      <th>Close</th>\n",
       "      <th>Adj Close</th>\n",
       "      <th>Volume</th>\n",
       "    </tr>\n",
       "  </thead>\n",
       "  <tbody>\n",
       "    <tr>\n",
       "      <th>3617</th>\n",
       "      <td>2019-01-02</td>\n",
       "      <td>1027.199951</td>\n",
       "      <td>1060.790039</td>\n",
       "      <td>1025.280029</td>\n",
       "      <td>1054.680054</td>\n",
       "      <td>1054.680054</td>\n",
       "      <td>1593400</td>\n",
       "    </tr>\n",
       "    <tr>\n",
       "      <th>3618</th>\n",
       "      <td>2019-01-03</td>\n",
       "      <td>1050.670044</td>\n",
       "      <td>1066.260010</td>\n",
       "      <td>1022.369995</td>\n",
       "      <td>1025.469971</td>\n",
       "      <td>1025.469971</td>\n",
       "      <td>2098000</td>\n",
       "    </tr>\n",
       "    <tr>\n",
       "      <th>3619</th>\n",
       "      <td>2019-01-04</td>\n",
       "      <td>1042.560059</td>\n",
       "      <td>1080.000000</td>\n",
       "      <td>1036.859985</td>\n",
       "      <td>1078.069946</td>\n",
       "      <td>1078.069946</td>\n",
       "      <td>2301100</td>\n",
       "    </tr>\n",
       "    <tr>\n",
       "      <th>3620</th>\n",
       "      <td>2019-01-07</td>\n",
       "      <td>1080.969971</td>\n",
       "      <td>1082.699951</td>\n",
       "      <td>1062.640015</td>\n",
       "      <td>1075.920044</td>\n",
       "      <td>1075.920044</td>\n",
       "      <td>2372300</td>\n",
       "    </tr>\n",
       "    <tr>\n",
       "      <th>3621</th>\n",
       "      <td>2019-01-08</td>\n",
       "      <td>1086.000000</td>\n",
       "      <td>1093.349976</td>\n",
       "      <td>1068.349976</td>\n",
       "      <td>1085.369995</td>\n",
       "      <td>1085.369995</td>\n",
       "      <td>1770700</td>\n",
       "    </tr>\n",
       "  </tbody>\n",
       "</table>\n",
       "</div>"
      ],
      "text/plain": [
       "            Date         Open         High          Low        Close  \\\n",
       "3617  2019-01-02  1027.199951  1060.790039  1025.280029  1054.680054   \n",
       "3618  2019-01-03  1050.670044  1066.260010  1022.369995  1025.469971   \n",
       "3619  2019-01-04  1042.560059  1080.000000  1036.859985  1078.069946   \n",
       "3620  2019-01-07  1080.969971  1082.699951  1062.640015  1075.920044   \n",
       "3621  2019-01-08  1086.000000  1093.349976  1068.349976  1085.369995   \n",
       "\n",
       "        Adj Close   Volume  \n",
       "3617  1054.680054  1593400  \n",
       "3618  1025.469971  2098000  \n",
       "3619  1078.069946  2301100  \n",
       "3620  1075.920044  2372300  \n",
       "3621  1085.369995  1770700  "
      ]
     },
     "execution_count": 37,
     "metadata": {},
     "output_type": "execute_result"
    }
   ],
   "source": [
    "data_testing.head()"
   ]
  },
  {
   "cell_type": "code",
   "execution_count": 38,
   "metadata": {},
   "outputs": [
    {
     "data": {
      "text/html": [
       "<div>\n",
       "<style scoped>\n",
       "    .dataframe tbody tr th:only-of-type {\n",
       "        vertical-align: middle;\n",
       "    }\n",
       "\n",
       "    .dataframe tbody tr th {\n",
       "        vertical-align: top;\n",
       "    }\n",
       "\n",
       "    .dataframe thead th {\n",
       "        text-align: right;\n",
       "    }\n",
       "</style>\n",
       "<table border=\"1\" class=\"dataframe\">\n",
       "  <thead>\n",
       "    <tr style=\"text-align: right;\">\n",
       "      <th></th>\n",
       "      <th>Open</th>\n",
       "      <th>High</th>\n",
       "      <th>Low</th>\n",
       "      <th>Close</th>\n",
       "      <th>Volume</th>\n",
       "    </tr>\n",
       "  </thead>\n",
       "  <tbody>\n",
       "    <tr>\n",
       "      <th>0</th>\n",
       "      <td>1051.459961</td>\n",
       "      <td>1078.869995</td>\n",
       "      <td>1041.290039</td>\n",
       "      <td>1071.050049</td>\n",
       "      <td>2079200</td>\n",
       "    </tr>\n",
       "    <tr>\n",
       "      <th>1</th>\n",
       "      <td>1065.229980</td>\n",
       "      <td>1072.439941</td>\n",
       "      <td>1054.900024</td>\n",
       "      <td>1068.270020</td>\n",
       "      <td>1768300</td>\n",
       "    </tr>\n",
       "    <tr>\n",
       "      <th>2</th>\n",
       "      <td>1063.390015</td>\n",
       "      <td>1068.000000</td>\n",
       "      <td>1022.869995</td>\n",
       "      <td>1027.420044</td>\n",
       "      <td>2284200</td>\n",
       "    </tr>\n",
       "    <tr>\n",
       "      <th>3</th>\n",
       "      <td>1007.289978</td>\n",
       "      <td>1037.349976</td>\n",
       "      <td>1002.210022</td>\n",
       "      <td>1030.449951</td>\n",
       "      <td>2722900</td>\n",
       "    </tr>\n",
       "    <tr>\n",
       "      <th>4</th>\n",
       "      <td>1045.310059</td>\n",
       "      <td>1054.709961</td>\n",
       "      <td>1039.459961</td>\n",
       "      <td>1043.430054</td>\n",
       "      <td>1484900</td>\n",
       "    </tr>\n",
       "  </tbody>\n",
       "</table>\n",
       "</div>"
      ],
      "text/plain": [
       "          Open         High          Low        Close   Volume\n",
       "0  1051.459961  1078.869995  1041.290039  1071.050049  2079200\n",
       "1  1065.229980  1072.439941  1054.900024  1068.270020  1768300\n",
       "2  1063.390015  1068.000000  1022.869995  1027.420044  2284200\n",
       "3  1007.289978  1037.349976  1002.210022  1030.449951  2722900\n",
       "4  1045.310059  1054.709961  1039.459961  1043.430054  1484900"
      ]
     },
     "execution_count": 38,
     "metadata": {},
     "output_type": "execute_result"
    }
   ],
   "source": [
    "past_30_days = data_training.tail(30)\n",
    "\n",
    "df = past_30_days.append(data_testing, ignore_index = True)\n",
    "df = df.drop(['Date','Adj Close'], axis=1)\n",
    "df.head()"
   ]
  },
  {
   "cell_type": "code",
   "execution_count": 39,
   "metadata": {},
   "outputs": [
    {
     "data": {
      "text/plain": [
       "array([[ 2.02368424,  2.08562175,  2.02212599,  2.09028123, -0.66836072],\n",
       "       [ 2.06978817,  2.06426002,  2.06809281,  2.08097124, -0.70660494],\n",
       "       [ 2.06362771,  2.04950977,  1.95991351,  1.9441694 , -0.64314339],\n",
       "       ...,\n",
       "       [ 3.35912263,  3.36498974,  3.33327943,  3.39222662, -0.71531415],\n",
       "       [ 3.3650489 ,  3.32881125,  3.24269683,  3.22334262, -0.69208961],\n",
       "       [ 3.19961768,  3.2786798 ,  3.24090669,  3.26845199, -0.71184523]])"
      ]
     },
     "execution_count": 39,
     "metadata": {},
     "output_type": "execute_result"
    }
   ],
   "source": [
    "# Scale the data\n",
    "inputs = scaler.transform(df)\n",
    "inputs"
   ]
  },
  {
   "cell_type": "code",
   "execution_count": 40,
   "metadata": {},
   "outputs": [
    {
     "data": {
      "text/plain": [
       "((437, 30, 5), (437,))"
      ]
     },
     "execution_count": 40,
     "metadata": {},
     "output_type": "execute_result"
    }
   ],
   "source": [
    "x_test = []\n",
    "y_test = []\n",
    "\n",
    "for i in range(30, inputs.shape[0]):\n",
    "    x_test.append(inputs[i-30:i])\n",
    "    y_test.append(inputs[i,0])\n",
    "\n",
    "x_test, y_test = np.array(x_test), np.array(y_test)\n",
    "x_test.shape, y_test.shape"
   ]
  },
  {
   "cell_type": "markdown",
   "metadata": {},
   "source": [
    "## Predict"
   ]
  },
  {
   "cell_type": "code",
   "execution_count": 41,
   "metadata": {},
   "outputs": [],
   "source": [
    "y_pred = regressor.predict(x_test)"
   ]
  },
  {
   "cell_type": "code",
   "execution_count": 42,
   "metadata": {},
   "outputs": [
    {
     "data": {
      "text/plain": [
       "0.003348138298669304"
      ]
     },
     "execution_count": 42,
     "metadata": {},
     "output_type": "execute_result"
    }
   ],
   "source": [
    "scale = 1 / 2.98673445e+02\n",
    "scale"
   ]
  },
  {
   "cell_type": "code",
   "execution_count": 43,
   "metadata": {},
   "outputs": [],
   "source": [
    "y_pred = y_pred*scale\n",
    "y_test = y_test*scale"
   ]
  },
  {
   "cell_type": "markdown",
   "metadata": {},
   "source": [
    "## Visualize the Real and Predicted Data"
   ]
  },
  {
   "cell_type": "code",
   "execution_count": 44,
   "metadata": {},
   "outputs": [
    {
     "data": {
      "text/plain": [
       "<function matplotlib.pyplot.show(*args, **kw)>"
      ]
     },
     "execution_count": 44,
     "metadata": {},
     "output_type": "execute_result"
    },
    {
     "data": {
      "image/png": "[encoded data removed]",
      "text/plain": [
       "<Figure size 1152x648 with 1 Axes>"
      ]
     },
     "metadata": {
      "needs_background": "light"
     },
     "output_type": "display_data"
    }
   ],
   "source": [
    "# Plot the results\n",
    "plt.figure(figsize=(16,9))\n",
    "plt.plot(y_test, color = 'tomato', label = 'Real Google Stock Price')\n",
    "plt.plot(y_pred, color = 'darkcyan', label = 'Predicted Google Stock Price')\n",
    "plt.title('Google Stock Price Estimator')\n",
    "plt.xlabel('Time - 30 Days')\n",
    "plt.ylabel('Google Stock Price')\n",
    "plt.legend()\n",
    "plt.show"
   ]
  }
 ],
 "metadata": {
  "kernelspec": {
   "display_name": "Python 3",
   "language": "python",
   "name": "python3"
  },
  "language_info": {
   "codemirror_mode": {
    "name": "ipython",
    "version": 3
   },
   "file_extension": ".py",
   "mimetype": "text/x-python",
   "name": "python",
   "nbconvert_exporter": "python",
   "pygments_lexer": "ipython3",
   "version": "3.7.6"
  }
 },
 "nbformat": 4,
 "nbformat_minor": 4
}
