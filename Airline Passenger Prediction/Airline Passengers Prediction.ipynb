{
 "cells": [
  {
   "cell_type": "code",
   "execution_count": 8,
   "metadata": {},
   "outputs": [],
   "source": [
    "# Import libraries\n",
    "import numpy as np\n",
    "import pandas as pd\n",
    "import matplotlib.pyplot as plt\n",
    "from tensorflow.keras.models import Sequential\n",
    "from tensorflow.keras.layers import Dense, LSTM\n",
    "from sklearn.preprocessing import MinMaxScaler"
   ]
  },
  {
   "cell_type": "code",
   "execution_count": 50,
   "metadata": {},
   "outputs": [
    {
     "data": {
      "text/html": [
       "<div>\n",
       "<style scoped>\n",
       "    .dataframe tbody tr th:only-of-type {\n",
       "        vertical-align: middle;\n",
       "    }\n",
       "\n",
       "    .dataframe tbody tr th {\n",
       "        vertical-align: top;\n",
       "    }\n",
       "\n",
       "    .dataframe thead th {\n",
       "        text-align: right;\n",
       "    }\n",
       "</style>\n",
       "<table border=\"1\" class=\"dataframe\">\n",
       "  <thead>\n",
       "    <tr style=\"text-align: right;\">\n",
       "      <th></th>\n",
       "      <th>Month</th>\n",
       "      <th>#Passengers</th>\n",
       "    </tr>\n",
       "  </thead>\n",
       "  <tbody>\n",
       "    <tr>\n",
       "      <th>0</th>\n",
       "      <td>1949-01</td>\n",
       "      <td>112</td>\n",
       "    </tr>\n",
       "    <tr>\n",
       "      <th>1</th>\n",
       "      <td>1949-02</td>\n",
       "      <td>118</td>\n",
       "    </tr>\n",
       "    <tr>\n",
       "      <th>2</th>\n",
       "      <td>1949-03</td>\n",
       "      <td>132</td>\n",
       "    </tr>\n",
       "    <tr>\n",
       "      <th>3</th>\n",
       "      <td>1949-04</td>\n",
       "      <td>129</td>\n",
       "    </tr>\n",
       "    <tr>\n",
       "      <th>4</th>\n",
       "      <td>1949-05</td>\n",
       "      <td>121</td>\n",
       "    </tr>\n",
       "  </tbody>\n",
       "</table>\n",
       "</div>"
      ],
      "text/plain": [
       "     Month  #Passengers\n",
       "0  1949-01          112\n",
       "1  1949-02          118\n",
       "2  1949-03          132\n",
       "3  1949-04          129\n",
       "4  1949-05          121"
      ]
     },
     "execution_count": 50,
     "metadata": {},
     "output_type": "execute_result"
    }
   ],
   "source": [
    "df = pd.read_csv('AirPassengers.csv')\n",
    "df.head()"
   ]
  },
  {
   "cell_type": "code",
   "execution_count": 51,
   "metadata": {},
   "outputs": [
    {
     "data": {
      "text/plain": [
       "array([[112],\n",
       "       [118],\n",
       "       [132],\n",
       "       [129],\n",
       "       [121],\n",
       "       [135],\n",
       "       [148],\n",
       "       [148],\n",
       "       [136],\n",
       "       [119],\n",
       "       [104],\n",
       "       [118],\n",
       "       [115],\n",
       "       [126],\n",
       "       [141],\n",
       "       [135],\n",
       "       [125],\n",
       "       [149],\n",
       "       [170],\n",
       "       [170],\n",
       "       [158],\n",
       "       [133],\n",
       "       [114],\n",
       "       [140],\n",
       "       [145],\n",
       "       [150],\n",
       "       [178],\n",
       "       [163],\n",
       "       [172],\n",
       "       [178],\n",
       "       [199],\n",
       "       [199],\n",
       "       [184],\n",
       "       [162],\n",
       "       [146],\n",
       "       [166],\n",
       "       [171],\n",
       "       [180],\n",
       "       [193],\n",
       "       [181],\n",
       "       [183],\n",
       "       [218],\n",
       "       [230],\n",
       "       [242],\n",
       "       [209],\n",
       "       [191],\n",
       "       [172],\n",
       "       [194],\n",
       "       [196],\n",
       "       [196],\n",
       "       [236],\n",
       "       [235],\n",
       "       [229],\n",
       "       [243],\n",
       "       [264],\n",
       "       [272],\n",
       "       [237],\n",
       "       [211],\n",
       "       [180],\n",
       "       [201],\n",
       "       [204],\n",
       "       [188],\n",
       "       [235],\n",
       "       [227],\n",
       "       [234],\n",
       "       [264],\n",
       "       [302],\n",
       "       [293],\n",
       "       [259],\n",
       "       [229],\n",
       "       [203],\n",
       "       [229],\n",
       "       [242],\n",
       "       [233],\n",
       "       [267],\n",
       "       [269],\n",
       "       [270],\n",
       "       [315],\n",
       "       [364],\n",
       "       [347],\n",
       "       [312],\n",
       "       [274],\n",
       "       [237],\n",
       "       [278],\n",
       "       [284],\n",
       "       [277],\n",
       "       [317],\n",
       "       [313],\n",
       "       [318],\n",
       "       [374],\n",
       "       [413],\n",
       "       [405],\n",
       "       [355],\n",
       "       [306],\n",
       "       [271],\n",
       "       [306],\n",
       "       [315],\n",
       "       [301],\n",
       "       [356],\n",
       "       [348],\n",
       "       [355],\n",
       "       [422],\n",
       "       [465],\n",
       "       [467],\n",
       "       [404],\n",
       "       [347],\n",
       "       [305],\n",
       "       [336],\n",
       "       [340],\n",
       "       [318],\n",
       "       [362],\n",
       "       [348],\n",
       "       [363],\n",
       "       [435],\n",
       "       [491],\n",
       "       [505],\n",
       "       [404],\n",
       "       [359],\n",
       "       [310],\n",
       "       [337],\n",
       "       [360],\n",
       "       [342],\n",
       "       [406],\n",
       "       [396],\n",
       "       [420],\n",
       "       [472],\n",
       "       [548],\n",
       "       [559],\n",
       "       [463],\n",
       "       [407],\n",
       "       [362],\n",
       "       [405],\n",
       "       [417],\n",
       "       [391],\n",
       "       [419],\n",
       "       [461],\n",
       "       [472],\n",
       "       [535],\n",
       "       [622],\n",
       "       [606],\n",
       "       [508],\n",
       "       [461],\n",
       "       [390],\n",
       "       [432]], dtype=int64)"
      ]
     },
     "execution_count": 51,
     "metadata": {},
     "output_type": "execute_result"
    }
   ],
   "source": [
    "# Select only the passengers column\n",
    "data = df['#Passengers']\n",
    "data = np.array(data).reshape(-1,1)\n",
    "data"
   ]
  },
  {
   "cell_type": "code",
   "execution_count": 52,
   "metadata": {},
   "outputs": [
    {
     "data": {
      "text/plain": [
       "[<matplotlib.lines.Line2D at 0x1e84eae1688>]"
      ]
     },
     "execution_count": 52,
     "metadata": {},
     "output_type": "execute_result"
    },
    {
     "data": {
      "image/png": "[encoded data removed]",
      "text/plain": [
       "<Figure size 432x288 with 1 Axes>"
      ]
     },
     "metadata": {
      "needs_background": "light"
     },
     "output_type": "display_data"
    }
   ],
   "source": [
    "# Plot the passengers\n",
    "plt.plot(data)"
   ]
  },
  {
   "cell_type": "markdown",
   "metadata": {},
   "source": [
    "## Normalize the data"
   ]
  },
  {
   "cell_type": "code",
   "execution_count": 53,
   "metadata": {},
   "outputs": [
    {
     "data": {
      "text/plain": [
       "(1.0, 0.0)"
      ]
     },
     "execution_count": 53,
     "metadata": {},
     "output_type": "execute_result"
    }
   ],
   "source": [
    "scaler = MinMaxScaler()\n",
    "data = scaler.fit_transform(data)\n",
    "data.max(), data.min()"
   ]
  },
  {
   "cell_type": "code",
   "execution_count": 54,
   "metadata": {},
   "outputs": [
    {
     "data": {
      "text/plain": [
       "(100, 1)"
      ]
     },
     "execution_count": 54,
     "metadata": {},
     "output_type": "execute_result"
    }
   ],
   "source": [
    "# Divide the data into train and testing sets\n",
    "train_size = 100\n",
    "test_size = 44\n",
    "\n",
    "train = data[0:train_size, :]\n",
    "train.shape"
   ]
  },
  {
   "cell_type": "code",
   "execution_count": 55,
   "metadata": {},
   "outputs": [
    {
     "data": {
      "text/plain": [
       "(44, 1)"
      ]
     },
     "execution_count": 55,
     "metadata": {},
     "output_type": "execute_result"
    }
   ],
   "source": [
    "test = data[train_size:144, :]\n",
    "test.shape"
   ]
  },
  {
   "cell_type": "markdown",
   "metadata": {},
   "source": [
    "## Build Training and Testing Dataset"
   ]
  },
  {
   "cell_type": "code",
   "execution_count": 56,
   "metadata": {},
   "outputs": [],
   "source": [
    "def get_data(data, look_back):\n",
    "    dataX, dataY = [], []\n",
    "    for i in range(len(data)-look_back-1):\n",
    "        a = data[i:(i+look_back), 0]\n",
    "        dataX.append(a)\n",
    "        dataY.append(data[i+look_back, 0])\n",
    "    return np.array(dataX), np.array(dataY)"
   ]
  },
  {
   "cell_type": "code",
   "execution_count": 57,
   "metadata": {},
   "outputs": [
    {
     "data": {
      "text/plain": [
       "((98, 1), (42, 1))"
      ]
     },
     "execution_count": 57,
     "metadata": {},
     "output_type": "execute_result"
    }
   ],
   "source": [
    "look_back = 1\n",
    "x_train, y_train = get_data(train, look_back)\n",
    "x_test, y_test = get_data(test, look_back)\n",
    "\n",
    "# Verify the shape of the arrays\n",
    "x_train.shape, x_test.shape"
   ]
  },
  {
   "cell_type": "code",
   "execution_count": 58,
   "metadata": {},
   "outputs": [],
   "source": [
    "# Reshape the data to pass them into the Neural Network\n",
    "x_train = x_train.reshape(x_train.shape[0], x_train.shape[1], 1)\n",
    "x_test = x_test.reshape(x_test.shape[0], x_test.shape[1], 1)"
   ]
  },
  {
   "cell_type": "markdown",
   "metadata": {},
   "source": [
    "## Build the Recurrent Neural Network"
   ]
  },
  {
   "cell_type": "code",
   "execution_count": 59,
   "metadata": {},
   "outputs": [],
   "source": [
    "model = Sequential()\n",
    "model.add(LSTM(5, input_shape=(1, look_back)))\n",
    "model.add(Dense(1))\n",
    "model.compile(loss='mean_squared_error', optimizer='adam')"
   ]
  },
  {
   "cell_type": "code",
   "execution_count": 60,
   "metadata": {},
   "outputs": [
    {
     "name": "stdout",
     "output_type": "stream",
     "text": [
      "Model: \"sequential_3\"\n",
      "_________________________________________________________________\n",
      "Layer (type)                 Output Shape              Param #   \n",
      "=================================================================\n",
      "lstm_3 (LSTM)                (None, 5)                 140       \n",
      "_________________________________________________________________\n",
      "dense_3 (Dense)              (None, 1)                 6         \n",
      "=================================================================\n",
      "Total params: 146\n",
      "Trainable params: 146\n",
      "Non-trainable params: 0\n",
      "_________________________________________________________________\n"
     ]
    }
   ],
   "source": [
    "model.summary()"
   ]
  },
  {
   "cell_type": "code",
   "execution_count": 61,
   "metadata": {},
   "outputs": [
    {
     "name": "stdout",
     "output_type": "stream",
     "text": [
      "Train on 98 samples\n",
      "Epoch 1/50\n",
      "98/98 [==============================] - 3s 26ms/sample - loss: 0.0344\n",
      "Epoch 2/50\n",
      "98/98 [==============================] - 0s 4ms/sample - loss: 0.0154\n",
      "Epoch 3/50\n",
      "98/98 [==============================] - 0s 3ms/sample - loss: 0.0126\n",
      "Epoch 4/50\n",
      "98/98 [==============================] - 0s 4ms/sample - loss: 0.0115\n",
      "Epoch 5/50\n",
      "98/98 [==============================] - 0s 3ms/sample - loss: 0.0103\n",
      "Epoch 6/50\n",
      "98/98 [==============================] - 0s 3ms/sample - loss: 0.0090\n",
      "Epoch 7/50\n",
      "98/98 [==============================] - 1s 5ms/sample - loss: 0.0080\n",
      "Epoch 8/50\n",
      "98/98 [==============================] - 0s 5ms/sample - loss: 0.0069\n",
      "Epoch 9/50\n",
      "98/98 [==============================] - 1s 6ms/sample - loss: 0.0058\n",
      "Epoch 10/50\n",
      "98/98 [==============================] - 0s 4ms/sample - loss: 0.0050\n",
      "Epoch 11/50\n",
      "98/98 [==============================] - 1s 6ms/sample - loss: 0.0042\n",
      "Epoch 12/50\n",
      "98/98 [==============================] - 1s 7ms/sample - loss: 0.0037\n",
      "Epoch 13/50\n",
      "98/98 [==============================] - 0s 5ms/sample - loss: 0.0032\n",
      "Epoch 14/50\n",
      "98/98 [==============================] - 1s 7ms/sample - loss: 0.0028\n",
      "Epoch 15/50\n",
      "98/98 [==============================] - 1s 5ms/sample - loss: 0.0026\n",
      "Epoch 16/50\n",
      "98/98 [==============================] - 0s 5ms/sample - loss: 0.0024\n",
      "Epoch 17/50\n",
      "98/98 [==============================] - 0s 5ms/sample - loss: 0.0023\n",
      "Epoch 18/50\n",
      "98/98 [==============================] - 0s 5ms/sample - loss: 0.0022\n",
      "Epoch 19/50\n",
      "98/98 [==============================] - 1s 6ms/sample - loss: 0.0022\n",
      "Epoch 20/50\n",
      "98/98 [==============================] - 0s 5ms/sample - loss: 0.0022\n",
      "Epoch 21/50\n",
      "98/98 [==============================] - 0s 5ms/sample - loss: 0.0022\n",
      "Epoch 22/50\n",
      "98/98 [==============================] - 1s 6ms/sample - loss: 0.0021\n",
      "Epoch 23/50\n",
      "98/98 [==============================] - 1s 5ms/sample - loss: 0.0021\n",
      "Epoch 24/50\n",
      "98/98 [==============================] - 0s 5ms/sample - loss: 0.0022\n",
      "Epoch 25/50\n",
      "98/98 [==============================] - 1s 5ms/sample - loss: 0.0021\n",
      "Epoch 26/50\n",
      "98/98 [==============================] - 0s 5ms/sample - loss: 0.0021\n",
      "Epoch 27/50\n",
      "98/98 [==============================] - 0s 5ms/sample - loss: 0.0022 0s - loss\n",
      "Epoch 28/50\n",
      "98/98 [==============================] - 0s 5ms/sample - loss: 0.0022\n",
      "Epoch 29/50\n",
      "98/98 [==============================] - 0s 5ms/sample - loss: 0.0021\n",
      "Epoch 30/50\n",
      "98/98 [==============================] - 0s 5ms/sample - loss: 0.0022\n",
      "Epoch 31/50\n",
      "98/98 [==============================] - 0s 5ms/sample - loss: 0.0022\n",
      "Epoch 32/50\n",
      "98/98 [==============================] - 0s 5ms/sample - loss: 0.0022\n",
      "Epoch 33/50\n",
      "98/98 [==============================] - 0s 5ms/sample - loss: 0.0022\n",
      "Epoch 34/50\n",
      "98/98 [==============================] - 0s 5ms/sample - loss: 0.0021\n",
      "Epoch 35/50\n",
      "98/98 [==============================] - 0s 5ms/sample - loss: 0.0021\n",
      "Epoch 36/50\n",
      "98/98 [==============================] - 0s 5ms/sample - loss: 0.0023\n",
      "Epoch 37/50\n",
      "98/98 [==============================] - 0s 5ms/sample - loss: 0.0021\n",
      "Epoch 38/50\n",
      "98/98 [==============================] - 0s 5ms/sample - loss: 0.0022\n",
      "Epoch 39/50\n",
      "98/98 [==============================] - 0s 5ms/sample - loss: 0.0021\n",
      "Epoch 40/50\n",
      "98/98 [==============================] - 0s 5ms/sample - loss: 0.0022\n",
      "Epoch 41/50\n",
      "98/98 [==============================] - 1s 8ms/sample - loss: 0.0021\n",
      "Epoch 42/50\n",
      "98/98 [==============================] - 1s 6ms/sample - loss: 0.0021\n",
      "Epoch 43/50\n",
      "98/98 [==============================] - 1s 6ms/sample - loss: 0.0022\n",
      "Epoch 44/50\n",
      "98/98 [==============================] - 0s 5ms/sample - loss: 0.0021\n",
      "Epoch 45/50\n",
      "98/98 [==============================] - 0s 5ms/sample - loss: 0.0022\n",
      "Epoch 46/50\n",
      "98/98 [==============================] - 0s 5ms/sample - loss: 0.0021\n",
      "Epoch 47/50\n",
      "98/98 [==============================] - 1s 5ms/sample - loss: 0.0021\n",
      "Epoch 48/50\n",
      "98/98 [==============================] - 0s 5ms/sample - loss: 0.0021\n",
      "Epoch 49/50\n",
      "98/98 [==============================] - 0s 5ms/sample - loss: 0.0021\n",
      "Epoch 50/50\n",
      "98/98 [==============================] - 0s 5ms/sample - loss: 0.0021\n"
     ]
    },
    {
     "data": {
      "text/plain": [
       "<tensorflow.python.keras.callbacks.History at 0x1e84edb0e88>"
      ]
     },
     "execution_count": 61,
     "metadata": {},
     "output_type": "execute_result"
    }
   ],
   "source": [
    "model.fit(x_train, y_train, epochs=50, batch_size=1)"
   ]
  },
  {
   "cell_type": "markdown",
   "metadata": {},
   "source": [
    "## Make Predictions"
   ]
  },
  {
   "cell_type": "code",
   "execution_count": 62,
   "metadata": {},
   "outputs": [],
   "source": [
    "y_pred = model.predict(x_test)"
   ]
  },
  {
   "cell_type": "code",
   "execution_count": 63,
   "metadata": {},
   "outputs": [
    {
     "data": {
      "text/plain": [
       "array([0.0019305])"
      ]
     },
     "execution_count": 63,
     "metadata": {},
     "output_type": "execute_result"
    }
   ],
   "source": [
    "scaler.scale_"
   ]
  },
  {
   "cell_type": "code",
   "execution_count": 64,
   "metadata": {},
   "outputs": [],
   "source": [
    "# Transform into the original scale\n",
    "y_pred = scaler.inverse_transform(y_pred)\n",
    "y_test = np.array(y_test)\n",
    "y_test = y_test.reshape(-1,1)\n",
    "y_test = scaler.inverse_transform(y_test)"
   ]
  },
  {
   "cell_type": "markdown",
   "metadata": {},
   "source": [
    "## Plot the Real Data and the Predicted Data"
   ]
  },
  {
   "cell_type": "code",
   "execution_count": 65,
   "metadata": {},
   "outputs": [
    {
     "data": {
      "image/png": "[encoded data removed]",
      "text/plain": [
       "<Figure size 1008x504 with 1 Axes>"
      ]
     },
     "metadata": {
      "needs_background": "light"
     },
     "output_type": "display_data"
    }
   ],
   "source": [
    "plt.figure(figsize=(14,7))\n",
    "plt.plot(y_test, label='Real Number of Passengers', color='tomato')\n",
    "plt.plot(y_pred, label='Predicted Number of Passengers', color='darkcyan')\n",
    "plt.ylabel('Number of Passengers')\n",
    "plt.legend()\n",
    "plt.show()"
   ]
  }
 ],
 "metadata": {
  "kernelspec": {
   "display_name": "Python 3",
   "language": "python",
   "name": "python3"
  },
  "language_info": {
   "codemirror_mode": {
    "name": "ipython",
    "version": 3
   },
   "file_extension": ".py",
   "mimetype": "text/x-python",
   "name": "python",
   "nbconvert_exporter": "python",
   "pygments_lexer": "ipython3",
   "version": "3.7.6"
  }
 },
 "nbformat": 4,
 "nbformat_minor": 4
}
